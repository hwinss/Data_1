{
 "cells": [
  {
   "cell_type": "markdown",
   "id": "d3c2fcaf-6987-444d-b466-93a765b1d63f",
   "metadata": {},
   "source": [
    "                                          DIVAR PROJECT"
   ]
  },
  {
   "cell_type": "markdown",
   "id": "394833f9-5bcf-4aed-83b8-0c20562177f0",
   "metadata": {},
   "source": [
    "\n",
    "\n",
    "\n",
    "\n",
    "\n",
    "\n",
    "\n"
   ]
  },
  {
   "cell_type": "code",
   "execution_count": 1,
   "id": "c1663410-6521-4212-9188-33c77f0e30c6",
   "metadata": {},
   "outputs": [],
   "source": [
    "from bs4 import BeautifulSoup # this module helps in web scrapping.\n",
    "import requests  # this module helps us to download a web page\n",
    "import pandas as pd"
   ]
  },
  {
   "cell_type": "code",
   "execution_count": 2,
   "id": "7eebe58e-0340-46e5-ac53-c662e682d5ec",
   "metadata": {},
   "outputs": [],
   "source": [
    "url=\"https://divar.ir/s/tehran/vehicles\""
   ]
  },
  {
   "cell_type": "code",
   "execution_count": 4,
   "id": "83eb7f0a-03a7-4f13-95d8-37d300abd9c6",
   "metadata": {},
   "outputs": [],
   "source": [
    "data=requests.get(url).text"
   ]
  },
  {
   "cell_type": "code",
   "execution_count": 8,
   "id": "c26b564f-ad9d-4f3f-8cb8-3a0ab785a73a",
   "metadata": {},
   "outputs": [],
   "source": [
    "soup = BeautifulSoup(data,\"html.parser\")"
   ]
  },
  {
   "cell_type": "code",
   "execution_count": 24,
   "id": "4717a566-0d8e-4aee-9ce9-63ddde0c50b0",
   "metadata": {},
   "outputs": [],
   "source": [
    "price=soup.find(\"div\",\"kt-post-card__description\")"
   ]
  },
  {
   "cell_type": "code",
   "execution_count": 25,
   "id": "be9d308e-d42d-4abe-91b3-44f57fa7d587",
   "metadata": {},
   "outputs": [
    {
     "name": "stdout",
     "output_type": "stream",
     "text": [
      "<div class=\"kt-post-card__description\">۱۳۱,۰۰۰ کیلومتر</div>\n"
     ]
    }
   ],
   "source": [
    "print(price)"
   ]
  },
  {
   "cell_type": "code",
   "execution_count": null,
   "id": "b26c55b0-fe45-447f-8d18-5487e523297b",
   "metadata": {},
   "outputs": [],
   "source": []
  }
 ],
 "metadata": {
  "kernelspec": {
   "display_name": "Python 3 (ipykernel)",
   "language": "python",
   "name": "python3"
  },
  "language_info": {
   "codemirror_mode": {
    "name": "ipython",
    "version": 3
   },
   "file_extension": ".py",
   "mimetype": "text/x-python",
   "name": "python",
   "nbconvert_exporter": "python",
   "pygments_lexer": "ipython3",
   "version": "3.10.7"
  }
 },
 "nbformat": 4,
 "nbformat_minor": 5
}
