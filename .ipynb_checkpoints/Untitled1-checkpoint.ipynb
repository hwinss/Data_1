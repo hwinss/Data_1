{
 "cells": [
  {
   "cell_type": "code",
   "execution_count": 5,
   "id": "994fa194-098f-46fa-a94c-224d515421b7",
   "metadata": {},
   "outputs": [],
   "source": [
    "import pandas as pd\n",
    "import dash\n",
    "import dash_html_components as html\n",
    "import dash_core_components as dcc\n",
    "from dash.dependencies import Input,Output,State\n",
    "import plotly.graph_objects as go\n",
    "import plotly.express as px\n",
    "from dash import no_update"
   ]
  },
  {
   "cell_type": "code",
   "execution_count": null,
   "id": "560dc460-449a-4021-8555-95012033c87c",
   "metadata": {},
   "outputs": [],
   "source": [
    "pip"
   ]
  }
 ],
 "metadata": {
  "kernelspec": {
   "display_name": "Python 3 (ipykernel)",
   "language": "python",
   "name": "python3"
  },
  "language_info": {
   "codemirror_mode": {
    "name": "ipython",
    "version": 3
   },
   "file_extension": ".py",
   "mimetype": "text/x-python",
   "name": "python",
   "nbconvert_exporter": "python",
   "pygments_lexer": "ipython3",
   "version": "3.10.7"
  }
 },
 "nbformat": 4,
 "nbformat_minor": 5
}
